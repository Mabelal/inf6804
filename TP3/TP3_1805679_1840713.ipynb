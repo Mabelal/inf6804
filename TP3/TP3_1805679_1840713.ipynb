{
 "cells": [
  {
   "cell_type": "markdown",
   "id": "rental-sender",
   "metadata": {},
   "source": [
    "INF6804<br>\n",
    "Polytechnique Montréal<br>\n",
    "TP3: Détection et suivi d'un objet d'intérêt<br>\n",
    "\n",
    "Auteurs:<br>\n",
    "Marc-Olivier Bélanger - 1840713<br>\n",
    "Pierre-Luc Chartier - 1805679"
   ]
  },
  {
   "cell_type": "markdown",
   "id": "thirty-advocacy",
   "metadata": {},
   "source": [
    "# Code"
   ]
  },
  {
   "cell_type": "code",
   "execution_count": 1,
   "id": "expired-taxation",
   "metadata": {},
   "outputs": [],
   "source": [
    "import cv2\n",
    "import numpy as np\n",
    "import os"
   ]
  },
  {
   "cell_type": "code",
   "execution_count": null,
   "id": "civic-spectacular",
   "metadata": {},
   "outputs": [],
   "source": []
  }
 ],
 "metadata": {
  "kernelspec": {
   "display_name": "Python 3",
   "language": "python",
   "name": "python3"
  },
  "language_info": {
   "codemirror_mode": {
    "name": "ipython",
    "version": 3
   },
   "file_extension": ".py",
   "mimetype": "text/x-python",
   "name": "python",
   "nbconvert_exporter": "python",
   "pygments_lexer": "ipython3",
   "version": "3.7.4"
  }
 },
 "nbformat": 4,
 "nbformat_minor": 5
}
