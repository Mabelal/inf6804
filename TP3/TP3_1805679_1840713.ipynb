{
 "cells": [
  {
   "cell_type": "markdown",
   "id": "rental-sender",
   "metadata": {},
   "source": [
    "INF6804<br>\n",
    "Polytechnique Montréal<br>\n",
    "TP3: Détection et suivi de multiples objets d'intérêt<br>\n",
    "\n",
    "Auteurs:<br>\n",
    "Marc-Olivier Bélanger - 1840713<br>\n",
    "Pierre-Luc Chartier - 1805679"
   ]
  },
  {
   "cell_type": "markdown",
   "id": "thirty-advocacy",
   "metadata": {},
   "source": [
    "### Déclarations globales"
   ]
  },
  {
   "cell_type": "code",
   "execution_count": 89,
   "id": "expired-taxation",
   "metadata": {},
   "outputs": [],
   "source": [
    "import cv2\n",
    "import matplotlib.pyplot as plt\n",
    "import numpy as np\n",
    "import os\n",
    "import scipy.optimize as sci\n",
    "from skimage import io\n",
    "import torchvision.models as models\n",
    "import torchvision.transforms as transforms\n",
    "import urllib.request as request"
   ]
  },
  {
   "cell_type": "code",
   "execution_count": 90,
   "id": "connected-blood",
   "metadata": {},
   "outputs": [],
   "source": [
    "COCO_NAMES = ['background']\n",
    "label_names = request.urlopen('https://raw.githubusercontent.com/gabilodeau/INF6804/master/utils/coco-labels.txt')\n",
    "for label_name in label_names.readlines():\n",
    "    COCO_NAMES.append(label_name.strip().decode('UTF-8'))\n",
    "\n",
    "IOU_THRESHOLD = 0.5\n",
    "SCORE_THRESHOLD = 0.95\n",
    "\n",
    "model = models.detection.maskrcnn_resnet50_fpn(pretrained=True).eval()"
   ]
  },
  {
   "cell_type": "markdown",
   "id": "signal-maldives",
   "metadata": {},
   "source": [
    "### Détection des objets (Mask R-CNN)"
   ]
  },
  {
   "cell_type": "code",
   "execution_count": 91,
   "id": "interior-adelaide",
   "metadata": {},
   "outputs": [],
   "source": [
    "def detect_objects(path_to_img):\n",
    "    img = io.imread(path_to_img)\n",
    "    preprocess = transforms.Compose([transforms.ToTensor()])\n",
    "    tensors = [preprocess(img)]\n",
    "    \n",
    "    predictions = model(tensors)\n",
    "    boxes = []\n",
    "    \n",
    "    for p in predictions:\n",
    "        for j, score in enumerate(p['scores']):\n",
    "            if score >= SCORE_THRESHOLD:\n",
    "                label = p['labels'][j]\n",
    "                is_cup_or_person = (COCO_NAMES[label] == \"cup\") or (COCO_NAMES[label] == \"person\")\n",
    "\n",
    "                if is_cup_or_person:\n",
    "                    boxes.append(p['boxes'][j])\n",
    "    return boxes"
   ]
  },
  {
   "cell_type": "markdown",
   "id": "acoustic-feedback",
   "metadata": {},
   "source": [
    "### Description des objets (Histogramme de couleurs)"
   ]
  },
  {
   "cell_type": "code",
   "execution_count": null,
   "id": "brilliant-participant",
   "metadata": {},
   "outputs": [],
   "source": []
  },
  {
   "cell_type": "markdown",
   "id": "perceived-utility",
   "metadata": {},
   "source": [
    "### Association des données (Algorithme hongrois)"
   ]
  },
  {
   "cell_type": "code",
   "execution_count": null,
   "id": "equipped-barrier",
   "metadata": {},
   "outputs": [],
   "source": []
  },
  {
   "cell_type": "markdown",
   "id": "excessive-amber",
   "metadata": {},
   "source": [
    "### Algorithme principal"
   ]
  },
  {
   "cell_type": "code",
   "execution_count": 94,
   "id": "statutory-start",
   "metadata": {
    "scrolled": true
   },
   "outputs": [
    {
     "name": "stdout",
     "output_type": "stream",
     "text": [
      "3\n"
     ]
    }
   ],
   "source": [
    "# keep a set of tracked objects \n",
    "# update it as needed e.g. clear the objects undetected since the last n seconds (n*fps frames)\n",
    "tracked_objects = {}\n",
    "\n",
    "# pour chaque image:\n",
    "#  call détection d'objets\n",
    "boxes = detect_objects(\"~/Downloads/TP3_data/frames/frame1.jpg\")\n",
    "print(len(boxes))\n",
    "\n",
    "#  call description d'objets pour construire la matrice des coûts d'association\n",
    "#  call algo hongrois et associer les objets\n",
    "\n",
    "#  pour les objets détectés non-associés à cette étape (nouveaux objets ou réapparition)\n",
    "#   update tracked objects (add to set (create their id, set their count to 0) or reset count)\n",
    "\n",
    "#  pour les objets non-détectés à cette itération (in tracked, but not in current_detected)\n",
    "#   update tracked objects (increase count, if count == threshold, remove them)\n",
    "\n",
    "#  write bboxe coordinates of each detected and associated object (i.e. objects in tracked objects with count = 0)"
   ]
  },
  {
   "cell_type": "markdown",
   "id": "destroyed-sigma",
   "metadata": {},
   "source": [
    "### MOT17-11: Forward moving camera in a busy shopping mall"
   ]
  },
  {
   "cell_type": "code",
   "execution_count": null,
   "id": "sticky-ottawa",
   "metadata": {},
   "outputs": [],
   "source": [
    "# calcul du MOTA en utilisant IoU > 50%"
   ]
  },
  {
   "cell_type": "markdown",
   "id": "crude-narrow",
   "metadata": {},
   "source": [
    "### MOT17-05: Street scene from a moving platform"
   ]
  },
  {
   "cell_type": "code",
   "execution_count": null,
   "id": "toxic-fruit",
   "metadata": {},
   "outputs": [],
   "source": [
    "# calcul du MOTA en utilisant IoU > 50%"
   ]
  },
  {
   "cell_type": "markdown",
   "id": "northern-assignment",
   "metadata": {},
   "source": [
    "### MOT17-13 : Filmed from a bus on a busy intersection"
   ]
  },
  {
   "cell_type": "code",
   "execution_count": 2,
   "id": "intended-symphony",
   "metadata": {},
   "outputs": [],
   "source": [
    "# calcul du MOTA en utilisant IoU > 50%"
   ]
  },
  {
   "cell_type": "markdown",
   "id": "chicken-diana",
   "metadata": {},
   "source": [
    "### Résultats sur la trame fournie"
   ]
  },
  {
   "cell_type": "code",
   "execution_count": 3,
   "id": "latter-mexico",
   "metadata": {},
   "outputs": [],
   "source": [
    "# call algo principal avec les trames des tasses"
   ]
  }
 ],
 "metadata": {
  "kernelspec": {
   "display_name": "Python 3",
   "language": "python",
   "name": "python3"
  },
  "language_info": {
   "codemirror_mode": {
    "name": "ipython",
    "version": 3
   },
   "file_extension": ".py",
   "mimetype": "text/x-python",
   "name": "python",
   "nbconvert_exporter": "python",
   "pygments_lexer": "ipython3",
   "version": "3.7.4"
  }
 },
 "nbformat": 4,
 "nbformat_minor": 5
}
