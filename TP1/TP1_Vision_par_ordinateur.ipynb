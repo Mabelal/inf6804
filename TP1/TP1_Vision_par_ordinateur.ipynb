{
  "nbformat": 4,
  "nbformat_minor": 0,
  "metadata": {
    "colab": {
      "name": "TP1_Vision_par_ordinateur.ipynb",
      "provenance": [],
      "collapsed_sections": [],
      "toc_visible": true
    },
    "kernelspec": {
      "name": "python3",
      "display_name": "Python 3"
    }
  },
  "cells": [
    {
      "cell_type": "markdown",
      "metadata": {
        "id": "NUIq8UCiWP6I"
      },
      "source": [
        "# INF6804 - Vision par ordinateur\r\n",
        "## Hiver 2021 - TP1 - Description et comparaison de regions d’interet\r\n",
        "### Membres de l'équipe\r\n",
        "    - Pierre-Luc Chartier - 1805679\r\n",
        "    - Marc-Olivier Belanger - \r\n",
        "\r\n",
        "\r\n",
        "## Directives de remise\r\n",
        "Remise sur moodle. Une version du code et rapport.\r\n",
        "\r\n",
        "Remise avant le 15 fevrier 2021, 17h00. Tout travail en retard sera pénalisé."
      ]
    },
    {
      "cell_type": "code",
      "metadata": {
        "id": "dyCWS78UVZwk"
      },
      "source": [
        "import cv2  \r\n",
        "import os\r\n",
        "import matplotlib.pyplot as plt\r\n",
        "import matplotlib.patches as patches\r\n",
        "import numpy as np"
      ],
      "execution_count": 62,
      "outputs": []
    },
    {
      "cell_type": "markdown",
      "metadata": {
        "id": "F0qdK871WTxi"
      },
      "source": [
        "# Partie 1: Techniques de manipulation d'image"
      ]
    },
    {
      "cell_type": "markdown",
      "metadata": {
        "id": "_sTFXu2IWfmE"
      },
      "source": [
        "## Section 1 Manipulation et extraction des regions d'interets"
      ]
    },
    {
      "cell_type": "markdown",
      "metadata": {
        "id": "nNmBgGAMh7sV"
      },
      "source": [
        "Importation des images"
      ]
    },
    {
      "cell_type": "code",
      "metadata": {
        "colab": {
          "base_uri": "https://localhost:8080/"
        },
        "id": "pXiaDMkIWNUY",
        "outputId": "8ff7f013-42d1-40d1-8194-6190ab0f424d"
      },
      "source": [
        "!gdown https://raw.githubusercontent.com/Mabelal/inf6804/master/TP1/Data/part1/images/ski.jpg\r\n",
        "!gdown https://raw.githubusercontent.com/mabelal/inf6804/master/TP1/Data/part1/images/airplanes.jpg\r\n",
        "!gdown https://raw.githubusercontent.com/Mabelal/inf6804/master/TP1/Data/part1/images/bicycle.jpg\r\n",
        "!gdown https://raw.githubusercontent.com/Mabelal/inf6804/master/TP1/Data/part1/images/highway.jpg\r\n",
        "!gdown https://raw.githubusercontent.com/mabelal/inf6804/master/TP1/Data/part1/images/road.jpg\r\n",
        "!gdown https://raw.githubusercontent.com/Mabelal/inf6804/master/TP1/Data/part1/images/skate1.jpg\r\n",
        "!gdown https://raw.githubusercontent.com/Mabelal/inf6804/master/TP1/Data/part1/images/skate2.jpg\r\n",
        "!gdown https://raw.githubusercontent.com/Mabelal/inf6804/master/TP1/Data/part1/images/tree.jpg"
      ],
      "execution_count": 63,
      "outputs": [
        {
          "output_type": "stream",
          "text": [
            "Downloading...\n",
            "From: https://raw.githubusercontent.com/Mabelal/inf6804/master/TP1/Data/part1/images/ski.jpg\n",
            "To: /content/ski.jpg\n",
            "100% 52.7k/52.7k [00:00<00:00, 3.28MB/s]\n",
            "Downloading...\n",
            "From: https://raw.githubusercontent.com/mabelal/inf6804/master/TP1/Data/part1/images/airplanes.jpg\n",
            "To: /content/airplanes.jpg\n",
            "100% 42.4k/42.4k [00:00<00:00, 2.81MB/s]\n",
            "Downloading...\n",
            "From: https://raw.githubusercontent.com/Mabelal/inf6804/master/TP1/Data/part1/images/bicycle.jpg\n",
            "To: /content/bicycle.jpg\n",
            "100% 129k/129k [00:00<00:00, 4.10MB/s]\n",
            "Downloading...\n",
            "From: https://raw.githubusercontent.com/Mabelal/inf6804/master/TP1/Data/part1/images/highway.jpg\n",
            "To: /content/highway.jpg\n",
            "100% 86.8k/86.8k [00:00<00:00, 2.75MB/s]\n",
            "Downloading...\n",
            "From: https://raw.githubusercontent.com/mabelal/inf6804/master/TP1/Data/part1/images/road.jpg\n",
            "To: /content/road.jpg\n",
            "100% 67.2k/67.2k [00:00<00:00, 4.42MB/s]\n",
            "Downloading...\n",
            "From: https://raw.githubusercontent.com/Mabelal/inf6804/master/TP1/Data/part1/images/skate1.jpg\n",
            "To: /content/skate1.jpg\n",
            "100% 128k/128k [00:00<00:00, 4.08MB/s]\n",
            "Downloading...\n",
            "From: https://raw.githubusercontent.com/Mabelal/inf6804/master/TP1/Data/part1/images/skate2.jpg\n",
            "To: /content/skate2.jpg\n",
            "100% 77.1k/77.1k [00:00<00:00, 5.08MB/s]\n",
            "Downloading...\n",
            "From: https://raw.githubusercontent.com/Mabelal/inf6804/master/TP1/Data/part1/images/tree.jpg\n",
            "To: /content/tree.jpg\n",
            "100% 124k/124k [00:00<00:00, 3.95MB/s]\n"
          ],
          "name": "stdout"
        }
      ]
    },
    {
      "cell_type": "code",
      "metadata": {
        "id": "we6sOInp9gRu"
      },
      "source": [
        "list_keys = ['airplanes', 'bicycle', 'highway', 'road','skate1', 'skate2', 'ski',  'tree']\r\n",
        "dict_images = {}\r\n",
        "for it in list_keys:\r\n",
        "  filename = it + '.jpg'\r\n",
        "  dict_images[it] = cv2.imread(filename)[:,:,::-1] "
      ],
      "execution_count": 112,
      "outputs": []
    },
    {
      "cell_type": "markdown",
      "metadata": {
        "id": "3pDzoG4MiFEt"
      },
      "source": [
        "Definitions des regions d'interets"
      ]
    },
    {
      "cell_type": "code",
      "metadata": {
        "id": "x0zYV3w3aQz4"
      },
      "source": [
        "import json\r\n",
        "from google.colab.patches import cv2_imshow"
      ],
      "execution_count": 129,
      "outputs": []
    },
    {
      "cell_type": "code",
      "metadata": {
        "id": "rC6f_14x2akJ"
      },
      "source": [
        "!gdown https://raw.githubusercontent.com/Mabelal/inf6804/master/TP1/Data/part1/gt.json"
      ],
      "execution_count": null,
      "outputs": []
    },
    {
      "cell_type": "code",
      "metadata": {
        "colab": {
          "base_uri": "https://localhost:8080/"
        },
        "id": "DGUs3RF-4dL1",
        "outputId": "f2c67c2c-68e4-40de-c14d-4a4db3eae5c8"
      },
      "source": [
        "with open('gt.json') as f:\r\n",
        "  data = json.load(f)\r\n",
        "\r\n",
        "list_annotations = data['annotations']\r\n",
        "print(list_annotations)"
      ],
      "execution_count": 115,
      "outputs": [
        {
          "output_type": "stream",
          "text": [
            "[{'image': 'airplanes', 'bbox': [385.66, 196.95, 120.0, 80.97], 'category_id': 5}, {'image': 'airplanes', 'bbox': [333.91, 301.39, 126.73, 78.3], 'category_id': 5}, {'image': 'bicycle', 'bbox': [225.82, 44.47, 379.62, 372.6], 'category_id': 2}, {'image': 'bicycle', 'bbox': [133.74, 118.54, 101.25, 235.95], 'category_id': 11}, {'image': 'highway', 'bbox': [161.4, 121.13, 240.68, 195.79], 'category_id': 8}, {'image': 'highway', 'bbox': [276.06, 70.63, 90.56, 53.88], 'category_id': 8}, {'image': 'road', 'bbox': [383.36, 278.27, 167.51, 117.05], 'category_id': 3}, {'image': 'road', 'bbox': [34.44, 41.97, 229.24, 360.54], 'category_id': 8}, {'image': 'road', 'bbox': [255.57, 152.59, 175.03, 205.1], 'category_id': 8}, {'image': 'road', 'bbox': [430.64, 293.73, 35.64, 23.56], 'category_id': 1}, {'image': 'road', 'bbox': [523.71, 33.79, 115.56, 435.92], 'category_id': 8}, {'image': 'skate1', 'bbox': [290.88, 151.47, 107.58, 123.06], 'category_id': 18}, {'image': 'skate1', 'bbox': [120.04, 68.19, 158.53, 186.32], 'category_id': 1}, {'image': 'skate1', 'bbox': [89.98, 243.3, 148.08, 31.89], 'category_id': 41}, {'image': 'skate2', 'bbox': [290.88, 151.47, 107.58, 123.06], 'category_id': 18}, {'image': 'skate2', 'bbox': [120.04, 68.19, 158.53, 186.32], 'category_id': 1}, {'image': 'skate2', 'bbox': [89.98, 243.3, 148.08, 31.89], 'category_id': 41}, {'image': 'ski', 'bbox': [90.91, 176.8, 70.91, 165.64], 'category_id': 1}, {'image': 'ski', 'bbox': [35.97, 172.06, 60.0, 174.94], 'category_id': 1}, {'image': 'ski', 'bbox': [75.44, 315.61, 134.01, 46.75], 'category_id': 35}, {'image': 'ski', 'bbox': [5.78, 318.03, 99.04, 37.13], 'category_id': 35}, {'image': 'tree', 'bbox': [70.79, 252.13, 132.43, 116.3], 'category_id': 16}, {'image': 'tree', 'bbox': [451.7, 122.83, 61.13, 64.53], 'category_id': 55}, {'image': 'tree', 'bbox': [251.77, 20.85, 56.17, 56.17], 'category_id': 55}, {'image': 'tree', 'bbox': [156.99, 32.75, 64.37, 54.21], 'category_id': 55}, {'image': 'tree', 'bbox': [525.3, 256.72, 104.63, 126.2], 'category_id': 1}]\n"
          ],
          "name": "stdout"
        }
      ]
    },
    {
      "cell_type": "code",
      "metadata": {
        "id": "63Jq_buTAtIv"
      },
      "source": [
        "for it in list_annotations:\r\n",
        "  bbox = it['bbox']\r\n",
        "  fig,ax = plt.subplots(1,figsize=(10, 10))\r\n",
        "  ax.imshow(dict_images[it['image']])\r\n",
        "  rect = patches.Rectangle((bbox[0],bbox[1]),bbox[2],bbox[3],linewidth=2,edgecolor='r',facecolor='none')\r\n",
        "  if it['category_id'] == 8:\r\n",
        "    rect = patches.Rectangle((bbox[0],bbox[1]),bbox[2],bbox[3],linewidth=2,edgecolor='r',facecolor='r')\r\n",
        "  ax.add_patch(rect)\r\n",
        "  plt.axis('off')\r\n",
        "  plt.show()"
      ],
      "execution_count": null,
      "outputs": []
    },
    {
      "cell_type": "markdown",
      "metadata": {
        "id": "d8jCBY3QDRX4"
      },
      "source": [
        "## Section 2: Description des regions d’interet par histogramme de couleurs RGB"
      ]
    },
    {
      "cell_type": "code",
      "metadata": {
        "id": "ohH1AiHtGaav"
      },
      "source": [
        "key_id=6\r\n",
        "for it in list_annotations:\r\n",
        "  if (it['image']==list_keys[key_id]) & (it['category_id']==1):\r\n",
        "    fig,ax = plt.subplots(1,figsize=(10, 10))\r\n",
        "    bbox = it['bbox']\r\n",
        "    crop_img = dict_images[list_keys[key_id]][int(bbox[1]):int(bbox[1])+int(bbox[3]), int(bbox[0]):int(bbox[0])+int(bbox[2])]\r\n",
        "    ax.imshow(crop_img)\r\n",
        "    plt.axis('off')\r\n",
        "    plt.show()\r\n",
        "    hist = cv2.calcHist([crop_img],[0],None,[256],[0,256])\r\n",
        "    plt.plot(hist,'r')\r\n",
        "    plt.show()\r\n",
        "    hist = cv2.calcHist([crop_img],[1],None,[256],[0,256])\r\n",
        "    plt.plot(hist,'g')\r\n",
        "    plt.show()\r\n",
        "    hist = cv2.calcHist([crop_img],[2],None,[256],[0,256])\r\n",
        "    plt.plot(hist,'b')\r\n",
        "    plt.show()\r\n",
        "    hist = cv2.calcHist([crop_img],[0],None,[256],[0,256])\r\n",
        "    plt.plot(hist,'r')\r\n",
        "    hist = cv2.calcHist([crop_img],[1],None,[256],[0,256])\r\n",
        "    plt.plot(hist,'g')\r\n",
        "    hist = cv2.calcHist([crop_img],[2],None,[256],[0,256])\r\n",
        "    plt.plot(hist,'b')\r\n",
        "    plt.show()"
      ],
      "execution_count": null,
      "outputs": []
    },
    {
      "cell_type": "markdown",
      "metadata": {
        "id": "qOSEgkx9DU2f"
      },
      "source": [
        "## Section 3: Description des regions d’interet par histogramme de couleurs HSV"
      ]
    },
    {
      "cell_type": "code",
      "metadata": {
        "id": "5puodIQsDSdj"
      },
      "source": [
        "key_id=4\r\n",
        "for it in list_annotations:\r\n",
        "  if (it['image']==list_keys[key_id]) & (it['category_id']==1):\r\n",
        "    fig,ax = plt.subplots(1,figsize=(10, 10))\r\n",
        "    bbox = it['bbox']\r\n",
        "    crop_img = dict_images[list_keys[key_id]][int(bbox[1]):int(bbox[1])+int(bbox[3]), int(bbox[0]):int(bbox[0])+int(bbox[2])]\r\n",
        "    ax.imshow(crop_img)\r\n",
        "    plt.axis('off')\r\n",
        "    plt.show()\r\n",
        "    hist = cv2.calcHist([crop_img],[0],None,[256],[0,256])\r\n",
        "    plt.plot(hist,'r')\r\n",
        "    plt.show()\r\n",
        "    hist = cv2.calcHist([crop_img],[1],None,[256],[0,256])\r\n",
        "    plt.plot(hist,'g')\r\n",
        "    plt.show()\r\n",
        "    hist = cv2.calcHist([crop_img],[2],None,[256],[0,256])\r\n",
        "    plt.plot(hist,'b')\r\n",
        "    plt.show()\r\n",
        "    hist = cv2.calcHist([crop_img],[0],None,[256],[0,256])\r\n",
        "    plt.plot(hist,'r')\r\n",
        "    hist = cv2.calcHist([crop_img],[1],None,[256],[0,256])\r\n",
        "    plt.plot(hist,'g')\r\n",
        "    hist = cv2.calcHist([crop_img],[2],None,[256],[0,256])\r\n",
        "    plt.plot(hist,'b')\r\n",
        "    plt.show()"
      ],
      "execution_count": null,
      "outputs": []
    },
    {
      "cell_type": "code",
      "metadata": {
        "id": "WFjXGdJ-ak0m"
      },
      "source": [
        "key_id=5\r\n",
        "for it in list_annotations:\r\n",
        "  if (it['image']==list_keys[key_id]) & (it['category_id']==1):\r\n",
        "    fig,ax = plt.subplots(1,figsize=(10, 10))\r\n",
        "    bbox = it['bbox']\r\n",
        "    crop_img = dict_images[list_keys[key_id]][int(bbox[1]):int(bbox[1])+int(bbox[3]), int(bbox[0]):int(bbox[0])+int(bbox[2])]\r\n",
        "    ax.imshow(crop_img)\r\n",
        "    plt.axis('off')\r\n",
        "    plt.show()\r\n",
        "    hist = cv2.calcHist([crop_img],[0],None,[256],[0,256])\r\n",
        "    plt.plot(hist,'r')\r\n",
        "    plt.show()\r\n",
        "    hist = cv2.calcHist([crop_img],[1],None,[256],[0,256])\r\n",
        "    plt.plot(hist,'g')\r\n",
        "    plt.show()\r\n",
        "    hist = cv2.calcHist([crop_img],[2],None,[256],[0,256])\r\n",
        "    plt.plot(hist,'b')\r\n",
        "    plt.show()\r\n",
        "    hist = cv2.calcHist([crop_img],[0],None,[256],[0,256])\r\n",
        "    plt.plot(hist,'r')\r\n",
        "    hist = cv2.calcHist([crop_img],[1],None,[256],[0,256])\r\n",
        "    plt.plot(hist,'g')\r\n",
        "    hist = cv2.calcHist([crop_img],[2],None,[256],[0,256])\r\n",
        "    plt.plot(hist,'b')\r\n",
        "    plt.show()"
      ],
      "execution_count": null,
      "outputs": []
    },
    {
      "cell_type": "code",
      "metadata": {
        "id": "HbqZbYRoarJ1"
      },
      "source": [
        "key_id=4\r\n",
        "for it in list_annotations:\r\n",
        "  if (it['image']==list_keys[key_id]) & (it['category_id']==1):\r\n",
        "    fig,ax = plt.subplots(1,figsize=(10, 10))\r\n",
        "    bbox = it['bbox']\r\n",
        "    crop_img = dict_images[list_keys[key_id]][int(bbox[1]):int(bbox[1])+int(bbox[3]), int(bbox[0]):int(bbox[0])+int(bbox[2])]\r\n",
        "    crop_img = crop_img[:,:,::-1] \r\n",
        "    hsv = cv2.cvtColor(crop_img, cv2.COLOR_BGR2HSV)\r\n",
        "    ax.imshow(hsv)\r\n",
        "    plt.axis('off')\r\n",
        "    plt.show()\r\n",
        "    hist = cv2.calcHist([hsv],[0],None,[256],[0,256])\r\n",
        "    plt.plot(hist,'r')\r\n",
        "    plt.show()\r\n",
        "    hist = cv2.calcHist([hsv],[1],None,[256],[0,256])\r\n",
        "    plt.plot(hist,'g')\r\n",
        "    plt.show()\r\n",
        "    hist = cv2.calcHist([hsv],[2],None,[256],[0,256])\r\n",
        "    plt.plot(hist,'b')\r\n",
        "    plt.show()\r\n",
        "    hist = cv2.calcHist([hsv],[0],None,[256],[0,256])\r\n",
        "    plt.plot(hist,'r')\r\n",
        "    hist = cv2.calcHist([hsv],[1],None,[256],[0,256])\r\n",
        "    plt.plot(hist,'g')\r\n",
        "    hist = cv2.calcHist([hsv],[2],None,[256],[0,256])\r\n",
        "    plt.plot(hist,'b')\r\n",
        "    plt.show()"
      ],
      "execution_count": null,
      "outputs": []
    },
    {
      "cell_type": "code",
      "metadata": {
        "id": "wDezENFbavnq"
      },
      "source": [
        "key_id=5\r\n",
        "for it in list_annotations:\r\n",
        "  if (it['image']==list_keys[key_id]) & (it['category_id']==1):\r\n",
        "    fig,ax = plt.subplots(1,figsize=(10, 10))\r\n",
        "    bbox = it['bbox']\r\n",
        "    crop_img = dict_images[list_keys[key_id]][int(bbox[1]):int(bbox[1])+int(bbox[3]), int(bbox[0]):int(bbox[0])+int(bbox[2])]\r\n",
        "    crop_img = crop_img[:,:,::-1] \r\n",
        "    hsv = cv2.cvtColor(crop_img, cv2.COLOR_BGR2HSV)\r\n",
        "    ax.imshow(hsv)\r\n",
        "    plt.axis('off')\r\n",
        "    plt.show()\r\n",
        "    hist = cv2.calcHist([hsv],[0],None,[256],[0,256])\r\n",
        "    plt.plot(hist,'r')\r\n",
        "    plt.show()\r\n",
        "    hist = cv2.calcHist([hsv],[1],None,[256],[0,256])\r\n",
        "    plt.plot(hist,'g')\r\n",
        "    plt.show()\r\n",
        "    hist = cv2.calcHist([hsv],[2],None,[256],[0,256])\r\n",
        "    plt.plot(hist,'b')\r\n",
        "    plt.show()\r\n",
        "    hist = cv2.calcHist([hsv],[0],None,[256],[0,256])\r\n",
        "    plt.plot(hist,'r')\r\n",
        "    hist = cv2.calcHist([hsv],[1],None,[256],[0,256])\r\n",
        "    plt.plot(hist,'g')\r\n",
        "    hist = cv2.calcHist([hsv],[2],None,[256],[0,256])\r\n",
        "    plt.plot(hist,'b')\r\n",
        "    plt.show()"
      ],
      "execution_count": null,
      "outputs": []
    },
    {
      "cell_type": "markdown",
      "metadata": {
        "id": "U6pNae5xfftF"
      },
      "source": [
        "# Partie 2: Comparaison de 2 methodes de descriptions d'image"
      ]
    },
    {
      "cell_type": "code",
      "metadata": {
        "id": "pqJ2ViiRfrNT"
      },
      "source": [
        ""
      ],
      "execution_count": null,
      "outputs": []
    }
  ]
}