{
  "nbformat": 4,
  "nbformat_minor": 0,
  "metadata": {
    "colab": {
      "name": "TP1_Vision_par_ordinateur.ipynb",
      "provenance": [],
      "collapsed_sections": [],
      "toc_visible": true
    },
    "kernelspec": {
      "name": "python3",
      "display_name": "Python 3"
    }
  },
  "cells": [
    {
      "cell_type": "markdown",
      "metadata": {
        "id": "NUIq8UCiWP6I"
      },
      "source": [
        "# INF6804 - Vision par ordinateur\r\n",
        "## Hiver 2021 - TP1 - Description et comparaison de regions d’interet\r\n",
        "### Membres de l'équipe\r\n",
        "    - Pierre-Luc Chartier - 1805679\r\n",
        "    - Marc-Olivier Belanger - \r\n",
        "\r\n",
        "\r\n",
        "## Directives de remise\r\n",
        "Remise sur moodle. Une version du code et rapport.\r\n",
        "\r\n",
        "Remise avant le 15 fevrier 2021, 17h00. Tout travail en retard sera pénalisé."
      ]
    },
    {
      "cell_type": "code",
      "metadata": {
        "id": "dyCWS78UVZwk"
      },
      "source": [
        "import cv2  \r\n",
        "import os\r\n",
        "import matplotlib.pyplot as plt\r\n",
        "import matplotlib.patches as patches\r\n",
        "import numpy as np"
      ],
      "execution_count": 3,
      "outputs": []
    },
    {
      "cell_type": "markdown",
      "metadata": {
        "id": "F0qdK871WTxi"
      },
      "source": [
        "# Partie 1: Techniques de manipulation d'image"
      ]
    },
    {
      "cell_type": "markdown",
      "metadata": {
        "id": "_sTFXu2IWfmE"
      },
      "source": [
        "## Section 1 Manipulation et extraction des regions d'interets"
      ]
    },
    {
      "cell_type": "markdown",
      "metadata": {
        "id": "nNmBgGAMh7sV"
      },
      "source": [
        "Importation des images"
      ]
    },
    {
      "cell_type": "code",
      "metadata": {
        "id": "pXiaDMkIWNUY"
      },
      "source": [
        "!gdown https://raw.githubusercontent.com/Mabelal/inf6804/master/TP1/Data/part1/images/ski.jpg\r\n",
        "!gdown https://raw.githubusercontent.com/mabelal/inf6804/master/TP1/Data/part1/images/airplanes.jpg\r\n",
        "!gdown https://raw.githubusercontent.com/Mabelal/inf6804/master/TP1/Data/part1/images/bicycle.jpg\r\n",
        "!gdown https://raw.githubusercontent.com/Mabelal/inf6804/master/TP1/Data/part1/images/highway.jpg\r\n",
        "!gdown https://raw.githubusercontent.com/mabelal/inf6804/master/TP1/Data/part1/images/road.jpg\r\n",
        "!gdown https://raw.githubusercontent.com/Mabelal/inf6804/master/TP1/Data/part1/images/skate1.jpg\r\n",
        "!gdown https://raw.githubusercontent.com/Mabelal/inf6804/master/TP1/Data/part1/images/skate2.jpg\r\n",
        "!gdown https://raw.githubusercontent.com/Mabelal/inf6804/master/TP1/Data/part1/images/tree.jpg"
      ],
      "execution_count": null,
      "outputs": []
    },
    {
      "cell_type": "code",
      "metadata": {
        "id": "we6sOInp9gRu"
      },
      "source": [
        "list_keys = ['airplanes', 'bicycle', 'highway', 'road','skate1', 'skate2', 'ski',  'tree']\r\n",
        "dict_images = {}\r\n",
        "for it in list_keys:\r\n",
        "  filename = it + '.jpg'\r\n",
        "  dict_images[it] = cv2.imread(filename)[:,:,::-1] "
      ],
      "execution_count": 4,
      "outputs": []
    },
    {
      "cell_type": "markdown",
      "metadata": {
        "id": "3pDzoG4MiFEt"
      },
      "source": [
        "Definitions des regions d'interets"
      ]
    },
    {
      "cell_type": "code",
      "metadata": {
        "id": "x0zYV3w3aQz4"
      },
      "source": [
        "import json\r\n",
        "from google.colab.patches import cv2_imshow"
      ],
      "execution_count": 5,
      "outputs": []
    },
    {
      "cell_type": "code",
      "metadata": {
        "id": "rC6f_14x2akJ"
      },
      "source": [
        "!gdown https://raw.githubusercontent.com/Mabelal/inf6804/master/TP1/Data/part1/gt.json"
      ],
      "execution_count": null,
      "outputs": []
    },
    {
      "cell_type": "code",
      "metadata": {
        "id": "DGUs3RF-4dL1"
      },
      "source": [
        "with open('gt.json') as f:\r\n",
        "  data = json.load(f)\r\n",
        "\r\n",
        "list_annotations = data['annotations']\r\n",
        "print(list_annotations)"
      ],
      "execution_count": null,
      "outputs": []
    },
    {
      "cell_type": "code",
      "metadata": {
        "id": "63Jq_buTAtIv"
      },
      "source": [
        "for it in list_annotations:\r\n",
        "  bbox = it['bbox']\r\n",
        "  fig,ax = plt.subplots(1,figsize=(10, 10))\r\n",
        "  ax.imshow(dict_images[it['image']])\r\n",
        "  rect = patches.Rectangle((bbox[0],bbox[1]),bbox[2],bbox[3],linewidth=2,edgecolor='r',facecolor='none')\r\n",
        "  if it['category_id'] == 8:\r\n",
        "    rect = patches.Rectangle((bbox[0],bbox[1]),bbox[2],bbox[3],linewidth=2,edgecolor='r',facecolor='r')\r\n",
        "  ax.add_patch(rect)\r\n",
        "  plt.axis('off')\r\n",
        "  plt.show()"
      ],
      "execution_count": null,
      "outputs": []
    },
    {
      "cell_type": "markdown",
      "metadata": {
        "id": "d8jCBY3QDRX4"
      },
      "source": [
        "## Section 2: Description des regions d’interet par histogramme de couleurs RGB"
      ]
    },
    {
      "cell_type": "code",
      "metadata": {
        "id": "ohH1AiHtGaav"
      },
      "source": [
        "key_id=6\r\n",
        "for it in list_annotations:\r\n",
        "  if (it['image']==list_keys[key_id]) & (it['category_id']==1):\r\n",
        "    fig,ax = plt.subplots(1,figsize=(10, 10))\r\n",
        "    bbox = it['bbox']\r\n",
        "    crop_img = dict_images[list_keys[key_id]][int(bbox[1]):int(bbox[1])+int(bbox[3]), int(bbox[0]):int(bbox[0])+int(bbox[2])]\r\n",
        "    ax.imshow(crop_img)\r\n",
        "    plt.axis('off')\r\n",
        "    plt.show()\r\n",
        "    hist = cv2.calcHist([crop_img],[0],None,[256],[0,256])\r\n",
        "    plt.plot(hist,'r')\r\n",
        "    plt.show()\r\n",
        "    hist = cv2.calcHist([crop_img],[1],None,[256],[0,256])\r\n",
        "    plt.plot(hist,'g')\r\n",
        "    plt.show()\r\n",
        "    hist = cv2.calcHist([crop_img],[2],None,[256],[0,256])\r\n",
        "    plt.plot(hist,'b')\r\n",
        "    plt.show()\r\n",
        "    hist = cv2.calcHist([crop_img],[0],None,[256],[0,256])\r\n",
        "    plt.plot(hist,'r')\r\n",
        "    hist = cv2.calcHist([crop_img],[1],None,[256],[0,256])\r\n",
        "    plt.plot(hist,'g')\r\n",
        "    hist = cv2.calcHist([crop_img],[2],None,[256],[0,256])\r\n",
        "    plt.plot(hist,'b')\r\n",
        "    plt.show()"
      ],
      "execution_count": null,
      "outputs": []
    },
    {
      "cell_type": "markdown",
      "metadata": {
        "id": "qOSEgkx9DU2f"
      },
      "source": [
        "## Section 3: Description des regions d’interet par histogramme de couleurs HSV"
      ]
    },
    {
      "cell_type": "code",
      "metadata": {
        "id": "5puodIQsDSdj"
      },
      "source": [
        "key_id=4\r\n",
        "for it in list_annotations:\r\n",
        "  if (it['image']==list_keys[key_id]) & (it['category_id']==1):\r\n",
        "    fig,ax = plt.subplots(1,figsize=(10, 10))\r\n",
        "    bbox = it['bbox']\r\n",
        "    crop_img = dict_images[list_keys[key_id]][int(bbox[1]):int(bbox[1])+int(bbox[3]), int(bbox[0]):int(bbox[0])+int(bbox[2])]\r\n",
        "    ax.imshow(crop_img)\r\n",
        "    plt.axis('off')\r\n",
        "    plt.show()\r\n",
        "    hist = cv2.calcHist([crop_img],[0],None,[256],[0,256])\r\n",
        "    plt.plot(hist,'r')\r\n",
        "    plt.show()\r\n",
        "    hist = cv2.calcHist([crop_img],[1],None,[256],[0,256])\r\n",
        "    plt.plot(hist,'g')\r\n",
        "    plt.show()\r\n",
        "    hist = cv2.calcHist([crop_img],[2],None,[256],[0,256])\r\n",
        "    plt.plot(hist,'b')\r\n",
        "    plt.show()\r\n",
        "    hist = cv2.calcHist([crop_img],[0],None,[256],[0,256])\r\n",
        "    plt.plot(hist,'r')\r\n",
        "    hist = cv2.calcHist([crop_img],[1],None,[256],[0,256])\r\n",
        "    plt.plot(hist,'g')\r\n",
        "    hist = cv2.calcHist([crop_img],[2],None,[256],[0,256])\r\n",
        "    plt.plot(hist,'b')\r\n",
        "    plt.show()"
      ],
      "execution_count": null,
      "outputs": []
    },
    {
      "cell_type": "code",
      "metadata": {
        "id": "WFjXGdJ-ak0m"
      },
      "source": [
        "key_id=5\r\n",
        "for it in list_annotations:\r\n",
        "  if (it['image']==list_keys[key_id]) & (it['category_id']==1):\r\n",
        "    fig,ax = plt.subplots(1,figsize=(10, 10))\r\n",
        "    bbox = it['bbox']\r\n",
        "    crop_img = dict_images[list_keys[key_id]][int(bbox[1]):int(bbox[1])+int(bbox[3]), int(bbox[0]):int(bbox[0])+int(bbox[2])]\r\n",
        "    ax.imshow(crop_img)\r\n",
        "    plt.axis('off')\r\n",
        "    plt.show()\r\n",
        "    hist = cv2.calcHist([crop_img],[0],None,[256],[0,256])\r\n",
        "    plt.plot(hist,'r')\r\n",
        "    plt.show()\r\n",
        "    hist = cv2.calcHist([crop_img],[1],None,[256],[0,256])\r\n",
        "    plt.plot(hist,'g')\r\n",
        "    plt.show()\r\n",
        "    hist = cv2.calcHist([crop_img],[2],None,[256],[0,256])\r\n",
        "    plt.plot(hist,'b')\r\n",
        "    plt.show()\r\n",
        "    hist = cv2.calcHist([crop_img],[0],None,[256],[0,256])\r\n",
        "    plt.plot(hist,'r')\r\n",
        "    hist = cv2.calcHist([crop_img],[1],None,[256],[0,256])\r\n",
        "    plt.plot(hist,'g')\r\n",
        "    hist = cv2.calcHist([crop_img],[2],None,[256],[0,256])\r\n",
        "    plt.plot(hist,'b')\r\n",
        "    plt.show()"
      ],
      "execution_count": null,
      "outputs": []
    },
    {
      "cell_type": "code",
      "metadata": {
        "id": "HbqZbYRoarJ1"
      },
      "source": [
        "key_id=4\r\n",
        "for it in list_annotations:\r\n",
        "  if (it['image']==list_keys[key_id]) & (it['category_id']==1):\r\n",
        "    fig,ax = plt.subplots(1,figsize=(10, 10))\r\n",
        "    bbox = it['bbox']\r\n",
        "    crop_img = dict_images[list_keys[key_id]][int(bbox[1]):int(bbox[1])+int(bbox[3]), int(bbox[0]):int(bbox[0])+int(bbox[2])]\r\n",
        "    crop_img = crop_img[:,:,::-1] \r\n",
        "    hsv = cv2.cvtColor(crop_img, cv2.COLOR_BGR2HSV)\r\n",
        "    ax.imshow(hsv)\r\n",
        "    plt.axis('off')\r\n",
        "    plt.show()\r\n",
        "    hist = cv2.calcHist([hsv],[0],None,[256],[0,256])\r\n",
        "    plt.plot(hist,'r')\r\n",
        "    plt.show()\r\n",
        "    hist = cv2.calcHist([hsv],[1],None,[256],[0,256])\r\n",
        "    plt.plot(hist,'g')\r\n",
        "    plt.show()\r\n",
        "    hist = cv2.calcHist([hsv],[2],None,[256],[0,256])\r\n",
        "    plt.plot(hist,'b')\r\n",
        "    plt.show()\r\n",
        "    hist = cv2.calcHist([hsv],[0],None,[256],[0,256])\r\n",
        "    plt.plot(hist,'r')\r\n",
        "    hist = cv2.calcHist([hsv],[1],None,[256],[0,256])\r\n",
        "    plt.plot(hist,'g')\r\n",
        "    hist = cv2.calcHist([hsv],[2],None,[256],[0,256])\r\n",
        "    plt.plot(hist,'b')\r\n",
        "    plt.show()"
      ],
      "execution_count": null,
      "outputs": []
    },
    {
      "cell_type": "code",
      "metadata": {
        "id": "wDezENFbavnq"
      },
      "source": [
        "key_id=5\r\n",
        "for it in list_annotations:\r\n",
        "  if (it['image']==list_keys[key_id]) & (it['category_id']==1):\r\n",
        "    fig,ax = plt.subplots(1,figsize=(10, 10))\r\n",
        "    bbox = it['bbox']\r\n",
        "    crop_img = dict_images[list_keys[key_id]][int(bbox[1]):int(bbox[1])+int(bbox[3]), int(bbox[0]):int(bbox[0])+int(bbox[2])]\r\n",
        "    crop_img = crop_img[:,:,::-1] \r\n",
        "    hsv = cv2.cvtColor(crop_img, cv2.COLOR_BGR2HSV)\r\n",
        "    ax.imshow(hsv)\r\n",
        "    plt.axis('off')\r\n",
        "    plt.show()\r\n",
        "    hist = cv2.calcHist([hsv],[0],None,[256],[0,256])\r\n",
        "    plt.plot(hist,'r')\r\n",
        "    plt.show()\r\n",
        "    hist = cv2.calcHist([hsv],[1],None,[256],[0,256])\r\n",
        "    plt.plot(hist,'g')\r\n",
        "    plt.show()\r\n",
        "    hist = cv2.calcHist([hsv],[2],None,[256],[0,256])\r\n",
        "    plt.plot(hist,'b')\r\n",
        "    plt.show()\r\n",
        "    hist = cv2.calcHist([hsv],[0],None,[256],[0,256])\r\n",
        "    plt.plot(hist,'r')\r\n",
        "    hist = cv2.calcHist([hsv],[1],None,[256],[0,256])\r\n",
        "    plt.plot(hist,'g')\r\n",
        "    hist = cv2.calcHist([hsv],[2],None,[256],[0,256])\r\n",
        "    plt.plot(hist,'b')\r\n",
        "    plt.show()"
      ],
      "execution_count": null,
      "outputs": []
    },
    {
      "cell_type": "markdown",
      "metadata": {
        "id": "U6pNae5xfftF"
      },
      "source": [
        "# Partie 2: Comparaison de 2 methodes de descriptions d'image"
      ]
    },
    {
      "cell_type": "markdown",
      "metadata": {
        "id": "sE5HnP2_Iuir"
      },
      "source": [
        "Importation des images requêtes et du database"
      ]
    },
    {
      "cell_type": "code",
      "metadata": {
        "id": "tOZrdK5JIy4v"
      },
      "source": [
        "!gdown https://raw.githubusercontent.com/Mabelal/inf6804/master/TP1/Data/part2/airplane_query.jpg\r\n",
        "!gdown https://raw.githubusercontent.com/Mabelal/inf6804/master/TP1/Data/part2/ball_query.jpg\r\n",
        "!gdown https://raw.githubusercontent.com/Mabelal/inf6804/master/TP1/Data/part2/car_query.jpg\r\n",
        "!gdown https://raw.githubusercontent.com/Mabelal/inf6804/master/TP1/Data/part2/cat_query.jpg\r\n",
        "!gdown https://raw.githubusercontent.com/Mabelal/inf6804/master/TP1/Data/part2/dolphin_query.jpg\r\n",
        "!gdown https://raw.githubusercontent.com/Mabelal/inf6804/master/TP1/Data/part2/face_query.jpg\r\n",
        "!gdown https://raw.githubusercontent.com/Mabelal/inf6804/master/TP1/Data/part2/lotus_query.jpg\r\n",
        "!gdown https://raw.githubusercontent.com/Mabelal/inf6804/master/TP1/Data/part2/strawberry_query.jpg\r\n"
      ],
      "execution_count": null,
      "outputs": []
    },
    {
      "cell_type": "code",
      "metadata": {
        "id": "HfG6DANCLmD7"
      },
      "source": [
        "!gdown https://raw.githubusercontent.com/Mabelal/inf6804/master/TP1/Data/part2/database/airplane_1.jpg\r\n",
        "!gdown https://raw.githubusercontent.com/Mabelal/inf6804/master/TP1/Data/part2/database/airplane_2.jpg\r\n",
        "!gdown https://raw.githubusercontent.com/Mabelal/inf6804/master/TP1/Data/part2/database/airplane_3.jpg\r\n",
        "!gdown https://raw.githubusercontent.com/Mabelal/inf6804/master/TP1/Data/part2/database/airplane_4.jpg\r\n",
        "!gdown https://raw.githubusercontent.com/Mabelal/inf6804/master/TP1/Data/part2/database/airplane_5.jpg\r\n",
        "!gdown https://raw.githubusercontent.com/Mabelal/inf6804/master/TP1/Data/part2/database/ball_1.jpg\r\n",
        "!gdown https://raw.githubusercontent.com/Mabelal/inf6804/master/TP1/Data/part2/database/ball_2.jpg\r\n",
        "!gdown https://raw.githubusercontent.com/Mabelal/inf6804/master/TP1/Data/part2/database/ball_3.jpg\r\n",
        "!gdown https://raw.githubusercontent.com/Mabelal/inf6804/master/TP1/Data/part2/database/ball_4.jpg\r\n",
        "!gdown https://raw.githubusercontent.com/Mabelal/inf6804/master/TP1/Data/part2/database/ball_5.jpg\r\n",
        "!gdown https://raw.githubusercontent.com/Mabelal/inf6804/master/TP1/Data/part2/database/car_1.jpg\r\n",
        "!gdown https://raw.githubusercontent.com/Mabelal/inf6804/master/TP1/Data/part2/database/car_2.jpg\r\n",
        "!gdown https://raw.githubusercontent.com/Mabelal/inf6804/master/TP1/Data/part2/database/car_3.jpg\r\n",
        "!gdown https://raw.githubusercontent.com/Mabelal/inf6804/master/TP1/Data/part2/database/car_4.jpg\r\n",
        "!gdown https://raw.githubusercontent.com/Mabelal/inf6804/master/TP1/Data/part2/database/car_5.jpg\r\n",
        "!gdown https://raw.githubusercontent.com/Mabelal/inf6804/master/TP1/Data/part2/database/cat_1.jpg\r\n",
        "!gdown https://raw.githubusercontent.com/Mabelal/inf6804/master/TP1/Data/part2/database/cat_2.jpg\r\n",
        "!gdown https://raw.githubusercontent.com/Mabelal/inf6804/master/TP1/Data/part2/database/cat_3.jpg\r\n",
        "!gdown https://raw.githubusercontent.com/Mabelal/inf6804/master/TP1/Data/part2/database/cat_4.jpg\r\n",
        "!gdown https://raw.githubusercontent.com/Mabelal/inf6804/master/TP1/Data/part2/database/cat_5.jpg\r\n",
        "!gdown https://raw.githubusercontent.com/Mabelal/inf6804/master/TP1/Data/part2/database/dolphin_1.jpg\r\n",
        "!gdown https://raw.githubusercontent.com/Mabelal/inf6804/master/TP1/Data/part2/database/dolphin_2.jpg\r\n",
        "!gdown https://raw.githubusercontent.com/Mabelal/inf6804/master/TP1/Data/part2/database/dolphin_3.jpg\r\n",
        "!gdown https://raw.githubusercontent.com/Mabelal/inf6804/master/TP1/Data/part2/database/dolphin_4.jpg\r\n",
        "!gdown https://raw.githubusercontent.com/Mabelal/inf6804/master/TP1/Data/part2/database/dolphin_5.jpg\r\n",
        "!gdown https://raw.githubusercontent.com/Mabelal/inf6804/master/TP1/Data/part2/database/face_1.jpg\r\n",
        "!gdown https://raw.githubusercontent.com/Mabelal/inf6804/master/TP1/Data/part2/database/face_2.jpg\r\n",
        "!gdown https://raw.githubusercontent.com/Mabelal/inf6804/master/TP1/Data/part2/database/face_3.jpg\r\n",
        "!gdown https://raw.githubusercontent.com/Mabelal/inf6804/master/TP1/Data/part2/database/face_4.jpg\r\n",
        "!gdown https://raw.githubusercontent.com/Mabelal/inf6804/master/TP1/Data/part2/database/face_5.jpg\r\n",
        "!gdown https://raw.githubusercontent.com/Mabelal/inf6804/master/TP1/Data/part2/database/lotus_1.jpg\r\n",
        "!gdown https://raw.githubusercontent.com/Mabelal/inf6804/master/TP1/Data/part2/database/lotus_2.jpg\r\n",
        "!gdown https://raw.githubusercontent.com/Mabelal/inf6804/master/TP1/Data/part2/database/lotus_3.jpg\r\n",
        "!gdown https://raw.githubusercontent.com/Mabelal/inf6804/master/TP1/Data/part2/database/lotus_4.jpg\r\n",
        "!gdown https://raw.githubusercontent.com/Mabelal/inf6804/master/TP1/Data/part2/database/lotus_5.jpg\r\n",
        "!gdown https://raw.githubusercontent.com/Mabelal/inf6804/master/TP1/Data/part2/database/strawberry_1.jpg\r\n",
        "!gdown https://raw.githubusercontent.com/Mabelal/inf6804/master/TP1/Data/part2/database/strawberry_2.jpg\r\n",
        "!gdown https://raw.githubusercontent.com/Mabelal/inf6804/master/TP1/Data/part2/database/strawberry_3.jpg\r\n",
        "!gdown https://raw.githubusercontent.com/Mabelal/inf6804/master/TP1/Data/part2/database/strawberry_4.jpg\r\n",
        "!gdown https://raw.githubusercontent.com/Mabelal/inf6804/master/TP1/Data/part2/database/strawberry_5.jpg\r\n"
      ],
      "execution_count": null,
      "outputs": []
    },
    {
      "cell_type": "code",
      "metadata": {
        "id": "nmaNu0ttPP3S"
      },
      "source": [
        "#query image dictionnary\r\n",
        "list_keys = ['airplane', 'ball', 'car','cat', 'dolphin','face','lotus', 'strawberry']\r\n",
        "dict_query = {}\r\n",
        "for it in list_keys:\r\n",
        "  filename = it + '_query.jpg'\r\n",
        "  dict_query[it] = cv2.imread(filename)[:,:,::-1] "
      ],
      "execution_count": 204,
      "outputs": []
    },
    {
      "cell_type": "code",
      "metadata": {
        "id": "p9iXdgZ1P0qs"
      },
      "source": [
        "#database image image dictionnary\r\n",
        "dict_database = {}\r\n",
        "for it in list_keys:\r\n",
        "  for id in range(1,6):\r\n",
        "    filename = it + '_' + str(id)+ '.jpg'\r\n",
        "    keyname = it + '_' + str(id)\r\n",
        "    dict_database[keyname] = cv2.imread(filename)[:,:,::-1]"
      ],
      "execution_count": 206,
      "outputs": []
    },
    {
      "cell_type": "markdown",
      "metadata": {
        "id": "3nmv_QtZuTBA"
      },
      "source": [
        "## Section 1: Methode histogramme de couleur version 1"
      ]
    },
    {
      "cell_type": "markdown",
      "metadata": {
        "id": "kmUIL8YouaK3"
      },
      "source": [
        "\r\n",
        "\r\n",
        "*   etape 1:creer histogramme de couleur 12bin pour toutes les images du database pour chaque channel (fonction construire image)\r\n",
        "*   etape 2:convertir une image requête\r\n",
        "*   etape 3: comparer avec une norme\r\n",
        "\r\n"
      ]
    },
    {
      "cell_type": "code",
      "metadata": {
        "id": "pqJ2ViiRfrNT"
      },
      "source": [
        "def Rgb_histo(nb_bin,image):\r\n",
        "    v_r = cv2.calcHist([image],[0],None,[nb_bin],[0,256])\r\n",
        "    v_g = cv2.calcHist([image],[1],None,[nb_bin],[0,256])\r\n",
        "    v_b = cv2.calcHist([image],[2],None,[nb_bin],[0,256])\r\n",
        "    #normalisation\r\n",
        "    v_r=v_r/np.linalg.norm(v_r)\r\n",
        "    v_g=v_g/np.linalg.norm(v_g)\r\n",
        "    v_b=v_b/np.linalg.norm(v_b)\r\n",
        "    return [v_r,v_g,v_b]"
      ],
      "execution_count": 216,
      "outputs": []
    },
    {
      "cell_type": "code",
      "metadata": {
        "id": "eU68EanpZIzf"
      },
      "source": [
        "#histogramme database\r\n",
        "nb_bin=12;\r\n",
        "dict_database_rgb = {}\r\n",
        "for it in list_keys:\r\n",
        "  for id in range(1,6):\r\n",
        "    keyname = it + '_' + str(id)\r\n",
        "    dict_database_rgb[keyname]=Rgb_histo(nb_bin,dict_database[keyname])"
      ],
      "execution_count": 396,
      "outputs": []
    },
    {
      "cell_type": "code",
      "metadata": {
        "id": "dZgCbaT4jC00"
      },
      "source": [
        "#histogramme requete\r\n",
        "dict_query_rgb = {}\r\n",
        "for it in list_keys:\r\n",
        "  for id in range(1,6):\r\n",
        "    dict_query_rgb[it]=Rgb_histo(nb_bin,dict_query[it])"
      ],
      "execution_count": 397,
      "outputs": []
    },
    {
      "cell_type": "code",
      "metadata": {
        "id": "rkQObWRbmrIx"
      },
      "source": [
        "def Compare_histo_norm_l2(requete_keyname):\r\n",
        "  dict_classement={};\r\n",
        "  for it in list_keys:\r\n",
        "    for id in range(1,6):\r\n",
        "      keyname = it + '_' + str(id)\r\n",
        "      norm_r=np.linalg.norm(dict_query_rgb[requete_keyname][0]-dict_database_rgb[keyname][0])\r\n",
        "      norm_g=np.linalg.norm(dict_query_rgb[requete_keyname][1]-dict_database_rgb[keyname][1])\r\n",
        "      norm_b=np.linalg.norm(dict_query_rgb[requete_keyname][2]-dict_database_rgb[keyname][2])\r\n",
        "      dict_classement[keyname]=(norm_r+norm_g+ norm_b)/3\r\n",
        "  return sorted(dict_classement.items(), key=lambda item: item[1])"
      ],
      "execution_count": 333,
      "outputs": []
    },
    {
      "cell_type": "code",
      "metadata": {
        "id": "olw-n5Uf2p6H"
      },
      "source": [
        "def Compare_histo_norm_intersection(requete_keyname):\r\n",
        "  dict_classement={};\r\n",
        "  for it in list_keys:\r\n",
        "    for id in range(1,6):\r\n",
        "      keyname = it + '_' + str(id)\r\n",
        "      norme=[]\r\n",
        "      for color in range(0,3):\r\n",
        "        somme_tot=np.sum(dict_query_rgb[requete_keyname][color])\r\n",
        "        somme=0\r\n",
        "        for bin in range(0,nb_bin):\r\n",
        "          somme += min(dict_query_rgb[requete_keyname][color][bin], dict_database_rgb[keyname][color][bin])\r\n",
        "        norme.append(somme/somme_tot)\r\n",
        "      dict_classement[keyname]=np.sum(norme)/len(norme)\r\n",
        "  return sorted(dict_classement.items(), key=lambda item: item[1],reverse=True)"
      ],
      "execution_count": 310,
      "outputs": []
    },
    {
      "cell_type": "code",
      "metadata": {
        "colab": {
          "base_uri": "https://localhost:8080/"
        },
        "id": "9jqkHfLLg4tx",
        "outputId": "3900e116-dd13-4bb9-a4dc-777a1aab0e4c"
      },
      "source": [
        "Compare_histo_norm_l2('lotus')"
      ],
      "execution_count": 400,
      "outputs": [
        {
          "output_type": "execute_result",
          "data": {
            "text/plain": [
              "[('ball_2', 0.21138219038645426),\n",
              " ('cat_4', 0.3819377024968465),\n",
              " ('cat_5', 0.38347554206848145),\n",
              " ('strawberry_4', 0.39196252822875977),\n",
              " ('cat_2', 0.6752984523773193),\n",
              " ('strawberry_1', 0.7338847319285074),\n",
              " ('dolphin_1', 0.7611444791158041),\n",
              " ('dolphin_4', 0.8635862668355306),\n",
              " ('ball_5', 0.9561312993367513),\n",
              " ('airplane_4', 0.9719831943511963),\n",
              " ('airplane_2', 0.9921407699584961),\n",
              " ('strawberry_2', 1.0064244270324707),\n",
              " ('ball_1', 1.0067858695983887),\n",
              " ('face_3', 1.0411403973897297),\n",
              " ('strawberry_5', 1.0526727040608723),\n",
              " ('strawberry_3', 1.0621278285980225),\n",
              " ('lotus_1', 1.0820871988932292),\n",
              " ('dolphin_3', 1.1198867162068684),\n",
              " ('airplane_1', 1.1255115667978923),\n",
              " ('lotus_4', 1.1590162913004558),\n",
              " ('lotus_5', 1.1805984179178874),\n",
              " ('cat_1', 1.2069509824117024),\n",
              " ('face_5', 1.2091608047485352),\n",
              " ('face_1', 1.2174352010091145),\n",
              " ('ball_4', 1.2217535972595215),\n",
              " ('airplane_3', 1.2231675783793132),\n",
              " ('dolphin_2', 1.2269511222839355),\n",
              " ('ball_3', 1.2386234601338704),\n",
              " ('face_4', 1.2459546724955242),\n",
              " ('car_5', 1.247298240661621),\n",
              " ('lotus_3', 1.277758280436198),\n",
              " ('face_2', 1.277853012084961),\n",
              " ('airplane_5', 1.2883858680725098),\n",
              " ('car_4', 1.2894965807596843),\n",
              " ('lotus_2', 1.303602933883667),\n",
              " ('car_1', 1.3037904898325603),\n",
              " ('car_2', 1.3185326258341472),\n",
              " ('dolphin_5', 1.3231746355692546),\n",
              " ('car_3', 1.3257408142089844),\n",
              " ('cat_3', 1.3629674911499023)]"
            ]
          },
          "metadata": {
            "tags": []
          },
          "execution_count": 400
        }
      ]
    },
    {
      "cell_type": "code",
      "metadata": {
        "colab": {
          "base_uri": "https://localhost:8080/"
        },
        "id": "pYV0CS20qxJo",
        "outputId": "ee0c21d5-e94a-49e2-e876-c126957d6f32"
      },
      "source": [
        "Compare_histo_norm_intersection('strawberry')"
      ],
      "execution_count": 399,
      "outputs": [
        {
          "output_type": "execute_result",
          "data": {
            "text/plain": [
              "[('strawberry_4', 0.7518432935078939),\n",
              " ('cat_5', 0.6995680332183838),\n",
              " ('cat_2', 0.6968034108479818),\n",
              " ('cat_4', 0.6883944670359293),\n",
              " ('ball_2', 0.6799066066741943),\n",
              " ('strawberry_1', 0.6304731369018555),\n",
              " ('airplane_4', 0.5920287768046061),\n",
              " ('dolphin_1', 0.5912179946899414),\n",
              " ('face_3', 0.5492713848749796),\n",
              " ('airplane_2', 0.5288517077763876),\n",
              " ('lotus_1', 0.5066546599070231),\n",
              " ('ball_5', 0.5019526481628418),\n",
              " ('ball_1', 0.4833931128184001),\n",
              " ('dolphin_4', 0.4783629576365153),\n",
              " ('strawberry_2', 0.44743895530700684),\n",
              " ('lotus_4', 0.4262257019678752),\n",
              " ('airplane_1', 0.4194047848383586),\n",
              " ('strawberry_3', 0.405795693397522),\n",
              " ('strawberry_5', 0.3964669704437256),\n",
              " ('face_1', 0.3926667372385661),\n",
              " ('cat_1', 0.3898611863454183),\n",
              " ('airplane_3', 0.369983434677124),\n",
              " ('dolphin_3', 0.3660062948862712),\n",
              " ('face_5', 0.33417145411173504),\n",
              " ('face_4', 0.32179005940755206),\n",
              " ('lotus_5', 0.2972911596298218),\n",
              " ('ball_3', 0.29061563809712726),\n",
              " ('cat_3', 0.28500203291575116),\n",
              " ('face_2', 0.28029002745946247),\n",
              " ('car_5', 0.2724908192952474),\n",
              " ('ball_4', 0.25966091950734455),\n",
              " ('lotus_3', 0.2540850043296814),\n",
              " ('airplane_5', 0.2507842183113098),\n",
              " ('car_4', 0.2469695806503296),\n",
              " ('dolphin_2', 0.2351871132850647),\n",
              " ('car_1', 0.21122185389200845),\n",
              " ('lotus_2', 0.20381553967793783),\n",
              " ('car_2', 0.19100534915924072),\n",
              " ('dolphin_5', 0.1807787815729777),\n",
              " ('car_3', 0.16356658935546875)]"
            ]
          },
          "metadata": {
            "tags": []
          },
          "execution_count": 399
        }
      ]
    },
    {
      "cell_type": "code",
      "metadata": {
        "id": "k8SpahyIrcos"
      },
      "source": [
        ""
      ],
      "execution_count": 371,
      "outputs": []
    }
  ]
}